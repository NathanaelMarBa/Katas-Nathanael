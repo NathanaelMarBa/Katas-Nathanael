{
 "cells": [
  {
   "cell_type": "markdown",
   "metadata": {},
   "source": [
    "# Ejercicio 1"
   ]
  },
  {
   "cell_type": "code",
   "execution_count": 3,
   "metadata": {},
   "outputs": [
    {
     "name": "stdout",
     "output_type": "stream",
     "text": [
      "['Tierra', 'Neptuno', 'JUpiter', 'Saturno']\n"
     ]
    }
   ],
   "source": [
    "new_planet = \"\"\n",
    "planets = []\n",
    "\n",
    "while (new_planet != \"done\"):\n",
    "    new_planet = input(\"ingrea un nuevo planeta, si haz terminado ingresa done: \")\n",
    "    if (new_planet != \"done\"):\n",
    "        planets.append(new_planet)\n",
    "    else:\n",
    "        print(planets)    \n"
   ]
  },
  {
   "cell_type": "markdown",
   "metadata": {},
   "source": [
    "# Ejercicio 2"
   ]
  },
  {
   "cell_type": "code",
   "execution_count": 2,
   "metadata": {},
   "outputs": [],
   "source": [
    "new_planet = \"\"\n",
    "planets = []\n",
    "\n",
    "while (new_planet != \"done\"):\n",
    "    new_planet = input(\"ingrea un nuevo planeta, si haz terminado ingresa done: \")\n",
    "    for planetas in planets:\n",
    "        print(planetas)"
   ]
  }
 ],
 "metadata": {
  "interpreter": {
   "hash": "6e7e76744c9fde4c472973b1afddc1e2a3ce8e52faee88cbe3b0c265caf472e2"
  },
  "kernelspec": {
   "display_name": "Python 3.10.2 64-bit",
   "language": "python",
   "name": "python3"
  },
  "language_info": {
   "codemirror_mode": {
    "name": "ipython",
    "version": 3
   },
   "file_extension": ".py",
   "mimetype": "text/x-python",
   "name": "python",
   "nbconvert_exporter": "python",
   "pygments_lexer": "ipython3",
   "version": "3.10.2"
  },
  "orig_nbformat": 4
 },
 "nbformat": 4,
 "nbformat_minor": 2
}
