{
 "cells": [
  {
   "cell_type": "markdown",
   "metadata": {},
   "source": [
    "# Ejercicio 1"
   ]
  },
  {
   "cell_type": "code",
   "execution_count": 1,
   "metadata": {},
   "outputs": [
    {
     "name": "stdout",
     "output_type": "stream",
     "text": [
      "La distancia en kilometros es de:  628949330\n",
      "La distancia en millas es de:  390577533.93\n"
     ]
    }
   ],
   "source": [
    "Tierra = 149597870\n",
    "Jupiter = 778547200\n",
    "Distanciak = Tierra - Jupiter\n",
    "print(\"La distancia en kilometros es de: \", abs(Distanciak))\n",
    "distanciami = Distanciak * 0.621\n",
    "print(\"La distancia en millas es de: \", abs(distanciami))"
   ]
  },
  {
   "cell_type": "markdown",
   "metadata": {},
   "source": [
    "# Ejercicio 2"
   ]
  },
  {
   "cell_type": "code",
   "execution_count": 2,
   "metadata": {},
   "outputs": [
    {
     "name": "stdout",
     "output_type": "stream",
     "text": [
      "La distancia en kilometros es de:  50300000\n",
      "La distancia en millas es de:  31236300.0\n"
     ]
    }
   ],
   "source": [
    "planeta1 = input(\"Ingrese la distancia del planeta: \")\n",
    "planeta2 = input(\"Ingrese la distancia del planeta: \")\n",
    "\n",
    "planeta1 = int(planeta1)\n",
    "planeta2 = int(planeta2)\n",
    "\n",
    "distanciakm = planeta2 - planeta1\n",
    "print(\"La distancia en kilometros es de: \", abs(distanciakm))\n",
    "distanciami = distanciakm * 0.621\n",
    "print(\"La distancia en millas es de: \", abs(distanciami))"
   ]
  }
 ],
 "metadata": {
  "interpreter": {
   "hash": "6e7e76744c9fde4c472973b1afddc1e2a3ce8e52faee88cbe3b0c265caf472e2"
  },
  "kernelspec": {
   "display_name": "Python 3.10.2 64-bit",
   "language": "python",
   "name": "python3"
  },
  "language_info": {
   "codemirror_mode": {
    "name": "ipython",
    "version": 3
   },
   "file_extension": ".py",
   "mimetype": "text/x-python",
   "name": "python",
   "nbconvert_exporter": "python",
   "pygments_lexer": "ipython3",
   "version": "3.10.2"
  },
  "orig_nbformat": 4
 },
 "nbformat": 4,
 "nbformat_minor": 2
}
