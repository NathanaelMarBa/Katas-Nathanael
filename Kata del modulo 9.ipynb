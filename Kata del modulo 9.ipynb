{
 "cells": [
  {
   "cell_type": "markdown",
   "metadata": {},
   "source": [
    "# Ejercicio 1"
   ]
  },
  {
   "cell_type": "code",
   "execution_count": 6,
   "metadata": {},
   "outputs": [
    {
     "name": "stdout",
     "output_type": "stream",
     "text": [
      "Reporte de tanques:\n",
      "    Total: 70.0%\n",
      "    tanque1: 75%\n",
      "    tanque2: 92%\n",
      "    tanque3: 75% \n",
      "    \n",
      "Reporte de tanques:\n",
      "    promedio: 52.666666666666664%\n",
      "    tanque1: 87%\n",
      "    tanque2: 51%\n",
      "    tanque3: 87% \n",
      "    \n"
     ]
    }
   ],
   "source": [
    "def reporte(tanque1, tanque2, tanque3):\n",
    "    total= (tanque1 + tanque2 + tanque3) / 3\n",
    "    return f\"\"\"Reporte de tanques:\n",
    "    Total: {total}%\n",
    "    tanque1: {tanque1}%\n",
    "    tanque2: {tanque2}%\n",
    "    tanque3: {tanque1}% \n",
    "    \"\"\"\n",
    "print(reporte(75, 92, 43))\n",
    "\n",
    "def promedio(valores):\n",
    "    total = sum(valores)\n",
    "    items= len(valores)\n",
    "    return total / items\n",
    "\n",
    "promedio([34, 45, 80]) \n",
    "\n",
    "def reporte2(tanque1, tanque2, tanque3):\n",
    "    return f\"\"\"Reporte de tanques:\n",
    "    promedio: {promedio([tanque1, tanque2, tanque3])}%\n",
    "    tanque1: {tanque1}%\n",
    "    tanque2: {tanque2}%\n",
    "    tanque3: {tanque1}% \n",
    "    \"\"\"\n",
    "print(reporte2(87, 51, 20))"
   ]
  },
  {
   "cell_type": "markdown",
   "metadata": {},
   "source": [
    "# Ejercicio 2"
   ]
  },
  {
   "cell_type": "code",
   "execution_count": 10,
   "metadata": {},
   "outputs": [
    {
     "name": "stdout",
     "output_type": "stream",
     "text": [
      "\n",
      "    Destino: Marte\n",
      "    Tiempo de llegada: 87 minutos\n",
      "    Combustible: 610000 litros\n",
      "    \n",
      "\n",
      "    Destino: Jupiter\n",
      "    Tiempo de viaje: 94 minutes\n",
      "    Reservas: 500000\n",
      "    \n",
      "\n",
      "    Destino Saturno\n",
      "    Tiempo de viaje: 188 minutos\n",
      "    Reservas: 670000\n",
      "    externo 450000 litros\n",
      "interno 220000 litros\n",
      "\n"
     ]
    }
   ],
   "source": [
    "def Reporte(Desplasamiento, tiempo, destino, tanqueext, tanqueint):\n",
    "    return f\"\"\"\n",
    "    Destino: {destino}\n",
    "    Tiempo de llegada: {Desplasamiento + tiempo} minutos\n",
    "    Combustible: {tanqueext + tanqueint} litros\n",
    "    \"\"\"\n",
    "\n",
    "print(Reporte(20, 67, \"Marte\", 500000, 110000))\n",
    "\n",
    "def Reporte2(destino, *minutos, **reservas):\n",
    "    return f\"\"\"\n",
    "    Destino: {destino}\n",
    "    Tiempo de viaje: {sum(minutos)} minutes\n",
    "    Reservas: {sum(reservas.values())}\n",
    "    \"\"\"\n",
    "\n",
    "print(Reporte2(\"Jupiter\", 25, 19, 50, interno=300000, externo=200000))\n",
    "\n",
    "def Reporte3(destino, *minutos, **reservas):\n",
    "    reportei = f\"\"\"\n",
    "    Destino {destino}\n",
    "    Tiempo de viaje: {sum(minutos)} minutos\n",
    "    Reservas: {sum(reservas.values())}\n",
    "    \"\"\"\n",
    "    for tanque, galones in reservas.items():\n",
    "        reportei += f\"{tanque} {galones} litros\\n\"\n",
    "    return reportei\n",
    "\n",
    "print(Reporte3(\"Saturno\", 20, 13, 155, externo=450000, interno=220000))"
   ]
  }
 ],
 "metadata": {
  "interpreter": {
   "hash": "6e7e76744c9fde4c472973b1afddc1e2a3ce8e52faee88cbe3b0c265caf472e2"
  },
  "kernelspec": {
   "display_name": "Python 3.10.2 64-bit",
   "language": "python",
   "name": "python3"
  },
  "language_info": {
   "codemirror_mode": {
    "name": "ipython",
    "version": 3
   },
   "file_extension": ".py",
   "mimetype": "text/x-python",
   "name": "python",
   "nbconvert_exporter": "python",
   "pygments_lexer": "ipython3",
   "version": "3.10.2"
  },
  "orig_nbformat": 4
 },
 "nbformat": 4,
 "nbformat_minor": 2
}
