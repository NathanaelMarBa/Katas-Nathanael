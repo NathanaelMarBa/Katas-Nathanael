{
 "cells": [
  {
   "cell_type": "markdown",
   "metadata": {},
   "source": [
    "# Ejercicio 1"
   ]
  },
  {
   "cell_type": "code",
   "execution_count": 6,
   "metadata": {},
   "outputs": [
    {
     "name": "stdout",
     "output_type": "stream",
     "text": [
      "Reporte de tanques:\n",
      "    Total: 70.0%\n",
      "    tanque1: 75%\n",
      "    tanque2: 92%\n",
      "    tanque3: 75% \n",
      "    \n",
      "Reporte de tanques:\n",
      "    promedio: 52.666666666666664%\n",
      "    tanque1: 87%\n",
      "    tanque2: 51%\n",
      "    tanque3: 87% \n",
      "    \n"
     ]
    }
   ],
   "source": [
    "def reporte(tanque1, tanque2, tanque3):\n",
    "    total= (tanque1 + tanque2 + tanque3) / 3\n",
    "    return f\"\"\"Reporte de tanques:\n",
    "    Total: {total}%\n",
    "    tanque1: {tanque1}%\n",
    "    tanque2: {tanque2}%\n",
    "    tanque3: {tanque1}% \n",
    "    \"\"\"\n",
    "print(reporte(75, 92, 43))\n",
    "\n",
    "def promedio(valores):\n",
    "    total = sum(valores)\n",
    "    items= len(valores)\n",
    "    return total / items\n",
    "\n",
    "promedio([34, 45, 80]) \n",
    "\n",
    "def reporte2(tanque1, tanque2, tanque3):\n",
    "    return f\"\"\"Reporte de tanques:\n",
    "    promedio: {promedio([tanque1, tanque2, tanque3])}%\n",
    "    tanque1: {tanque1}%\n",
    "    tanque2: {tanque2}%\n",
    "    tanque3: {tanque1}% \n",
    "    \"\"\"\n",
    "print(reporte2(87, 51, 20))"
   ]
  }
 ],
 "metadata": {
  "interpreter": {
   "hash": "6e7e76744c9fde4c472973b1afddc1e2a3ce8e52faee88cbe3b0c265caf472e2"
  },
  "kernelspec": {
   "display_name": "Python 3.10.2 64-bit",
   "language": "python",
   "name": "python3"
  },
  "language_info": {
   "codemirror_mode": {
    "name": "ipython",
    "version": 3
   },
   "file_extension": ".py",
   "mimetype": "text/x-python",
   "name": "python",
   "nbconvert_exporter": "python",
   "pygments_lexer": "ipython3",
   "version": "3.10.2"
  },
  "orig_nbformat": 4
 },
 "nbformat": 4,
 "nbformat_minor": 2
}
